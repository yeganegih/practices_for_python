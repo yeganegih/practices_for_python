# Import required libraries
import requests
import pandas as pd
import matplotlib.pyplot as plt

# Step 1: Fetching the data from Slickcharts
url = "https://www.slickcharts.com/sp500"  # URL of the data source
response = requests.get(url)

if response.status_code == 200:
    print("Successfully fetched the data!")
else:
    print(f"Failed to fetch the data. Status code: {response.status_code}")
    response.raise_for_status()




