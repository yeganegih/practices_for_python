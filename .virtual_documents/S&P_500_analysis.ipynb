


import requests
import pandas as pd
import matplotlib.pyplot as plt

# Step 1: Fetching the data from Slickcharts
url = "https://www.slickcharts.com/sp500"  # URL of the data source

# Mimic a browser request by setting the User-Agent
headers = {
    "User-Agent": (
        "Mozilla/5.0 (Windows NT 10.0; Win64; x64) AppleWebKit/537.36 (KHTML, like Gecko) Chrome/117.0.5938.62 Safari/537.36"
    )
}

# Make the request with headers
response = requests.get(url, headers=headers, verify=False)

# Suppress warnings from unverified HTTPS requests
import urllib3
urllib3.disable_warnings(urllib3.exceptions.InsecureRequestWarning)

if response.status_code == 200:
    print("Successfully fetched the data!")
    print(response.text[:100])  # Print the first 500 characters of the response
else:
    print(f"Failed to fetch the data. Status code: {response.status_code}")
    response.raise_for_status()







# Step 2: Parsing the data
# We use pandas to parse HTML tables on the website
tables = pd.read_html(response.text)
sp500_table = tables[0]  # The first table on the page contains the S&P 500 data

# Display the first few rows of the table to understand its structure
print(sp500_table.head())







# Step 3: Extracting relevant columns
# The columns we need are 'Company', 'Symbol', and 'Weight' (the market cap)
market_cap_column = "Weight"  
sp500_table[market_cap_column] = (
    sp500_table[market_cap_column]
    .replace("[\%,]", "", regex=True)  # Remove $ and commas
    .astype(float)
)
# Step 4: Sorting by Weight
sp500_table = sp500_table.sort_values(by=market_cap_column, ascending=False)
print(sp500_table.head())






# Step 5: Calculating cumulative percentages
sp500_table["Cumulative Weight"] = sp500_table[market_cap_column].cumsum()
total_market_cap = sp500_table[market_cap_column].sum()
sp500_table["Cumulative %"] = (
    sp500_table["Cumulative Weight"] / total_market_cap * 100
)

# Step 6: Preparing data for plotting
sp500_table["Company Rank"] = range(1, len(sp500_table) + 1)






# Step 7: Plotting the accumulated histogram
plt.figure(figsize=(10, 6))
plt.plot(
    sp500_table["Company Rank"],
    sp500_table["Cumulative %"],
    marker="o",
    linestyle="",
    label="Cumulative Weight",
)

# Step 8: Adding labels and title
plt.title("Accumulated Capitalization of S&P 500 Companies", fontsize=14)
plt.xlabel("Company Rank ", fontsize=12)
plt.ylabel("Cumulative Weight (%)", fontsize=12)
plt.grid(True)
plt.legend()
plt.show()





