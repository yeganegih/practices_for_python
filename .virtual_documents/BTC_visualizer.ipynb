


import requests
import pandas as pd
from datetime import datetime
import urllib3


def fetch_btc_prices():
    # API endpoint and parameters
    url = "https://api.coingecko.com/api/v3/coins/bitcoin/market_chart"
    params = {
        "vs_currency": "usd",  # Fetch prices in USD
        "days": "60"           # Last 60 days
    }
    
    
    # Make the API request
    urllib3.disable_warnings(urllib3.exceptions.InsecureRequestWarning)
    response = requests.get(url, params=params,  verify=False)


    response.raise_for_status()  # Raise an error if the request fails
    
    # Parse JSON response
    data = response.json()
    prices = data['prices']  # List of [timestamp, price] pairs
    
    # Convert to a Pandas DataFrame
    df = pd.DataFrame(prices, columns=["timestamp", "price"])
    df['timestamp'] = pd.to_datetime(df['timestamp'], unit='ms')
    
    return df

# Fetch the data
btc_data = fetch_btc_prices()

# Display the first few rows
print(btc_data.head())






# Plot BTC prices with Plotly
import plotly.graph_objects as go
def plot_btc_prices(data):
    fig = go.Figure()

    # Add line trace for BTC prices
    fig.add_trace(go.Scatter(
        x=data['timestamp'],
        y=data['price'],
        mode='lines',
        name='BTC Price'
    ))

    # Customize the layout
    fig.update_layout(
        title='Bitcoin Price (Last 2 Months)',
        xaxis_title='Time',
        yaxis_title='Price (USD)',
        xaxis=dict(rangeslider=dict(visible=True)),  # Enable zoom with range slider
        yaxis=dict(tickprefix='$'),                 # Add dollar sign to prices
        template='plotly_dark'                      # Optional: dark theme
    )

    # Show the plot
    fig.show()

# Plot the data
plot_btc_prices(btc_data)




