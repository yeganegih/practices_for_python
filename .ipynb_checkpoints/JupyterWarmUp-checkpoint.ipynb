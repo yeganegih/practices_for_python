{
 "cells": [
  {
   "cell_type": "code",
   "execution_count": 10,
   "id": "6118f0f8",
   "metadata": {},
   "outputs": [
    {
     "data": {
      "text/html": [
       "<div>\n",
       "<style scoped>\n",
       "    .dataframe tbody tr th:only-of-type {\n",
       "        vertical-align: middle;\n",
       "    }\n",
       "\n",
       "    .dataframe tbody tr th {\n",
       "        vertical-align: top;\n",
       "    }\n",
       "\n",
       "    .dataframe thead th {\n",
       "        text-align: right;\n",
       "    }\n",
       "</style>\n",
       "<table border=\"1\" class=\"dataframe\">\n",
       "  <thead>\n",
       "    <tr style=\"text-align: right;\">\n",
       "      <th></th>\n",
       "      <th>ticker</th>\n",
       "      <th>date</th>\n",
       "      <th>open</th>\n",
       "      <th>high</th>\n",
       "      <th>low</th>\n",
       "      <th>close</th>\n",
       "    </tr>\n",
       "  </thead>\n",
       "  <tbody>\n",
       "    <tr>\n",
       "      <th>0</th>\n",
       "      <td>BTC</td>\n",
       "      <td>2010-07-17</td>\n",
       "      <td>0.04951</td>\n",
       "      <td>0.04951</td>\n",
       "      <td>0.04951</td>\n",
       "      <td>0.04951</td>\n",
       "    </tr>\n",
       "    <tr>\n",
       "      <th>1</th>\n",
       "      <td>BTC</td>\n",
       "      <td>2010-07-18</td>\n",
       "      <td>0.04951</td>\n",
       "      <td>0.08585</td>\n",
       "      <td>0.04951</td>\n",
       "      <td>0.08584</td>\n",
       "    </tr>\n",
       "    <tr>\n",
       "      <th>2</th>\n",
       "      <td>BTC</td>\n",
       "      <td>2010-07-19</td>\n",
       "      <td>0.08584</td>\n",
       "      <td>0.09307</td>\n",
       "      <td>0.07723</td>\n",
       "      <td>0.08080</td>\n",
       "    </tr>\n",
       "    <tr>\n",
       "      <th>3</th>\n",
       "      <td>BTC</td>\n",
       "      <td>2010-07-20</td>\n",
       "      <td>0.08080</td>\n",
       "      <td>0.08181</td>\n",
       "      <td>0.07426</td>\n",
       "      <td>0.07474</td>\n",
       "    </tr>\n",
       "    <tr>\n",
       "      <th>4</th>\n",
       "      <td>BTC</td>\n",
       "      <td>2010-07-21</td>\n",
       "      <td>0.07474</td>\n",
       "      <td>0.07921</td>\n",
       "      <td>0.06634</td>\n",
       "      <td>0.07921</td>\n",
       "    </tr>\n",
       "  </tbody>\n",
       "</table>\n",
       "</div>"
      ],
      "text/plain": [
       "  ticker        date     open     high      low    close\n",
       "0    BTC  2010-07-17  0.04951  0.04951  0.04951  0.04951\n",
       "1    BTC  2010-07-18  0.04951  0.08585  0.04951  0.08584\n",
       "2    BTC  2010-07-19  0.08584  0.09307  0.07723  0.08080\n",
       "3    BTC  2010-07-20  0.08080  0.08181  0.07426  0.07474\n",
       "4    BTC  2010-07-21  0.07474  0.07921  0.06634  0.07921"
      ]
     },
     "execution_count": 10,
     "metadata": {},
     "output_type": "execute_result"
    }
   ],
   "source": [
    "import pandas as pd\n",
    "import numpy as np # linear algebra\n",
    "from sklearn.model_selection import train_test_split\n",
    "from sklearn.linear_model import LinearRegression\n",
    "import matplotlib.pyplot as plt\n",
    "from sklearn import metrics \n",
    "\n",
    "BTC_df=pd.read_csv('Practice_datasets\\crypto\\BTC.csv')\n",
    "BTC_df.head()"
   ]
  },
  {
   "cell_type": "code",
   "execution_count": 11,
   "id": "8dcbe95e",
   "metadata": {},
   "outputs": [
    {
     "name": "stdout",
     "output_type": "stream",
     "text": [
      "<class 'pandas.core.frame.DataFrame'>\n",
      "RangeIndex: 5242 entries, 0 to 5241\n",
      "Data columns (total 6 columns):\n",
      " #   Column  Non-Null Count  Dtype  \n",
      "---  ------  --------------  -----  \n",
      " 0   ticker  5242 non-null   object \n",
      " 1   date    5242 non-null   object \n",
      " 2   open    5242 non-null   float64\n",
      " 3   high    5242 non-null   float64\n",
      " 4   low     5242 non-null   float64\n",
      " 5   close   5242 non-null   float64\n",
      "dtypes: float64(4), object(2)\n",
      "memory usage: 245.8+ KB\n"
     ]
    }
   ],
   "source": [
    "BTC_df.info()"
   ]
  },
  {
   "cell_type": "code",
   "execution_count": 7,
   "id": "38a2f968",
   "metadata": {},
   "outputs": [
    {
     "data": {
      "text/plain": [
       "array([['BTC', '2010-07-17', 0.04951, 0.04951, 0.04951, 0.04951],\n",
       "       ['BTC', '2010-07-18', 0.04951, 0.08585, 0.04951, 0.08584],\n",
       "       ['BTC', '2010-07-19', 0.08584, 0.09307, 0.07723, 0.0808],\n",
       "       ...,\n",
       "       ['BTC', '2024-11-19', 91230.0, 94015.0, 90298.3, 91941.9],\n",
       "       ['BTC', '2024-11-20', 91926.3, 94904.0, 91630.9, 94225.5],\n",
       "       ['BTC', '2024-11-21', 94225.5, 99048.2, 93840.4, 98446.5]],\n",
       "      dtype=object)"
      ]
     },
     "execution_count": 7,
     "metadata": {},
     "output_type": "execute_result"
    }
   ],
   "source": [
    "BTC_df.values"
   ]
  },
  {
   "cell_type": "code",
   "execution_count": null,
   "id": "2f9f1db0",
   "metadata": {},
   "outputs": [],
   "source": []
  }
 ],
 "metadata": {
  "kernelspec": {
   "display_name": "Python 3",
   "language": "python",
   "name": "python3"
  },
  "language_info": {
   "codemirror_mode": {
    "name": "ipython",
    "version": 3
   },
   "file_extension": ".py",
   "mimetype": "text/x-python",
   "name": "python",
   "nbconvert_exporter": "python",
   "pygments_lexer": "ipython3",
   "version": "3.8.10"
  }
 },
 "nbformat": 4,
 "nbformat_minor": 5
}
